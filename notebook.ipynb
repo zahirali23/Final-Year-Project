{
  "cells": [
    {
      "cell_type": "markdown",
      "metadata": {
        "id": "hF-16yaUmlyo"
      },
      "source": [
        "# **Import Libraries**"
      ]
    },
    {
      "cell_type": "code",
      "execution_count": 2,
      "metadata": {
        "id": "kiRAlgN0aOjw"
      },
      "outputs": [],
      "source": [
        "# Pandas for data manipulation\n",
        "import pandas as pd"
      ]
    },
    {
      "cell_type": "code",
      "execution_count": 3,
      "metadata": {
        "id": "LKG5k9qlk4Sq"
      },
      "outputs": [],
      "source": [
        "# Random Forest classifier\n",
        "from sklearn.ensemble import RandomForestClassifier\n",
        "\n",
        "# Xgboost Classifier\n",
        "from xgboost import XGBClassifier\n",
        "\n",
        "# Multi-layer perceptron (MLP) Classifier\n",
        "from sklearn.neural_network import MLPClassifier\n",
        "\n",
        "# For Performance Metrices\n",
        "from sklearn.metrics import accuracy_score, precision_score, recall_score, f1_score\n",
        "\n",
        "# For splitting data into training and testing sets\n",
        "from sklearn.model_selection import train_test_split\n",
        "\n",
        "# For label encoding categorical variables\n",
        "from sklearn.preprocessing import LabelEncoder"
      ]
    },
    {
      "cell_type": "code",
      "execution_count": 4,
      "metadata": {
        "id": "_pTuc1Cik7Dc"
      },
      "outputs": [],
      "source": [
        "# Libraries for data balancing\n",
        "from imblearn.over_sampling import SMOTE  # Synthetic Minority Over-sampling Technique for addressing class imbalance"
      ]
    },
    {
      "cell_type": "code",
      "execution_count": 5,
      "metadata": {
        "id": "gg8NP2Q7k90v"
      },
      "outputs": [],
      "source": [
        "# Libraries for model evaluation and tuning\n",
        "from sklearn.model_selection import GridSearchCV  # Grid search for hyperparameter tuning\n",
        "from sklearn.metrics import accuracy_score, confusion_matrix, classification_report  # Metrics for model evaluation"
      ]
    },
    {
      "cell_type": "code",
      "execution_count": 77,
      "metadata": {
        "id": "hRuiKj4hG-TQ"
      },
      "outputs": [],
      "source": [
        "# Library for Data Scaling\n",
        "from sklearn.preprocessing import MinMaxScaler"
      ]
    },
    {
      "cell_type": "markdown",
      "metadata": {
        "id": "m0wzpn46mq9W"
      },
      "source": [
        "# **Upload Dataset**"
      ]
    },
    {
      "cell_type": "code",
      "execution_count": 6,
      "metadata": {
        "id": "0dCQZTOhbQuN"
      },
      "outputs": [],
      "source": [
        "# Reading the dataset from a CSV file and storing it in a DataFrame called df\n",
        "df = pd.read_csv('/content/Final Dataset.csv')"
      ]
    },
    {
      "cell_type": "code",
      "execution_count": 7,
      "metadata": {
        "id": "FCI9fouGcfzm"
      },
      "outputs": [],
      "source": [
        "# Dropping rows with missing values from the DataFrame in place\n",
        "df.dropna(inplace=True)"
      ]
    },
    {
      "cell_type": "markdown",
      "metadata": {
        "id": "sNslRmdtbg7N"
      },
      "source": [
        "# **Convert All Factors to Per-90**"
      ]
    },
    {
      "cell_type": "code",
      "execution_count": 8,
      "metadata": {
        "colab": {
          "base_uri": "https://localhost:8080/"
        },
        "id": "DJJSq6_3lCnp",
        "outputId": "b7f26bd4-1e07-4c88-b429-7a42ef50bab0"
      },
      "outputs": [
        {
          "data": {
            "text/plain": [
              "Index(['Player Name', 'Position', 'Club Name', 'Age', ' Weekly Salary ',\n",
              "       'Matches Played', 'Minutes Played', 'Yellow Cards', 'Red Cards ',\n",
              "       'Shots', 'Shots per 90', 'Tackles Made', 'Tackles Won',\n",
              "       'Times Team Pressed Opposition', 'Blocks ', 'Interceptions',\n",
              "       'Clearances', 'Fouls Commited', 'Fouls Drawn', 'Loose Balls Recovered',\n",
              "       'Aerial Battles Won %', 'Goal Creation per 90',\n",
              "       'Fully Completed Matches', 'Touches', 'Successful Dribbles',\n",
              "       'Attempted Dribbles', 'Distance Ran', 'Distance Covered With Ball',\n",
              "       'Times Dispossessed', 'Passes Received', 'Total Injuries',\n",
              "       'Minor Injuries', 'Moderate Injuries', 'Serious Injuries', 'COVID-19'],\n",
              "      dtype='object')"
            ]
          },
          "execution_count": 8,
          "metadata": {},
          "output_type": "execute_result"
        }
      ],
      "source": [
        "# Displaying the column names of the DataFrame\n",
        "df.columns"
      ]
    },
    {
      "cell_type": "code",
      "execution_count": 9,
      "metadata": {
        "id": "gmfdbwHAkwCo"
      },
      "outputs": [],
      "source": [
        "# Calculating the number of full 90-minute matches played by dividing the total minutes played by 90\n",
        "df['Full 90s Played'] = df['Minutes Played'] / 90"
      ]
    },
    {
      "cell_type": "code",
      "execution_count": 10,
      "metadata": {
        "id": "SvzmFMj4k0JA"
      },
      "outputs": [],
      "source": [
        "# List of columns to be converted to numeric data type\n",
        "columns_to_convert = ['Yellow Cards', 'Red Cards ', 'Tackles Made', 'Tackles Won', 'Times Team Pressed Opposition',\n",
        "                      'Blocks ', 'Interceptions', 'Clearances', 'Fouls Commited', 'Fouls Drawn', 'Loose Balls Recovered',\n",
        "                      'Touches', 'Successful Dribbles', 'Attempted Dribbles', 'Distance Ran', 'Distance Covered With Ball',\n",
        "                      'Times Dispossessed', 'Passes Received', 'Total Injuries', 'Minor Injuries', 'Moderate Injuries',\n",
        "                      'Serious Injuries', 'COVID-19']\n",
        "\n"
      ]
    },
    {
      "cell_type": "code",
      "execution_count": 11,
      "metadata": {
        "id": "lHnbgWWyfubb"
      },
      "outputs": [],
      "source": [
        "# List of columns to select for further analysis\n",
        "columns_to_select = ['Yellow Cards', 'Red Cards ', 'Tackles Made', 'Tackles Won', 'Times Team Pressed Opposition',\n",
        "                      'Blocks ', 'Interceptions', 'Clearances', 'Fouls Commited', 'Fouls Drawn', 'Loose Balls Recovered',\n",
        "                      'Touches', 'Successful Dribbles', 'Attempted Dribbles', 'Distance Ran', 'Distance Covered With Ball',\n",
        "                      'Times Dispossessed', 'Passes Received']"
      ]
    },
    {
      "cell_type": "code",
      "execution_count": 12,
      "metadata": {
        "id": "L5qY1FNCk2KQ"
      },
      "outputs": [],
      "source": [
        "# Iterating through each column in the list of columns to convert\n",
        "for column in columns_to_convert:\n",
        "    # Calculating the per 90 minutes value for the current column and creating a new column with the suffix ' per 90'\n",
        "    df[column + ' per 90'] = df[column] / df['Full 90s Played']"
      ]
    },
    {
      "cell_type": "markdown",
      "metadata": {
        "id": "aYvRucV5XdG1"
      },
      "source": [
        "# **Prepare Data**"
      ]
    },
    {
      "cell_type": "code",
      "execution_count": 39,
      "metadata": {
        "colab": {
          "base_uri": "https://localhost:8080/"
        },
        "id": "ml2GGzOb0Ng5",
        "outputId": "8a722fe6-75b7-4c28-c589-f1dcbd39640b"
      },
      "outputs": [
        {
          "data": {
            "text/plain": [
              "Index(['Player Name', 'Position', 'Club Name', 'Age', ' Weekly Salary ',\n",
              "       'Matches Played', 'Minutes Played', 'Yellow Cards', 'Red Cards ',\n",
              "       'Shots', 'Shots per 90', 'Tackles Made', 'Tackles Won',\n",
              "       'Times Team Pressed Opposition', 'Blocks ', 'Interceptions',\n",
              "       'Clearances', 'Fouls Commited', 'Fouls Drawn', 'Loose Balls Recovered',\n",
              "       'Aerial Battles Won %', 'Goal Creation per 90',\n",
              "       'Fully Completed Matches', 'Touches', 'Successful Dribbles',\n",
              "       'Attempted Dribbles', 'Distance Ran', 'Distance Covered With Ball',\n",
              "       'Times Dispossessed', 'Passes Received', 'Total Injuries',\n",
              "       'Minor Injuries', 'Moderate Injuries', 'Serious Injuries', 'COVID-19',\n",
              "       'Full 90s Played', 'Yellow Cards per 90', 'Red Cards  per 90',\n",
              "       'Tackles Made per 90', 'Tackles Won per 90',\n",
              "       'Times Team Pressed Opposition per 90', 'Blocks  per 90',\n",
              "       'Interceptions per 90', 'Clearances per 90', 'Fouls Commited per 90',\n",
              "       'Fouls Drawn per 90', 'Loose Balls Recovered per 90', 'Touches per 90',\n",
              "       'Successful Dribbles per 90', 'Attempted Dribbles per 90',\n",
              "       'Distance Ran per 90', 'Distance Covered With Ball per 90',\n",
              "       'Times Dispossessed per 90', 'Passes Received per 90',\n",
              "       'Total Injuries per 90', 'Minor Injuries per 90',\n",
              "       'Moderate Injuries per 90', 'Serious Injuries per 90',\n",
              "       'COVID-19 per 90'],\n",
              "      dtype='object')"
            ]
          },
          "execution_count": 39,
          "metadata": {},
          "output_type": "execute_result"
        }
      ],
      "source": [
        "# Displaying the column names of the DataFrame\n",
        "df.columns"
      ]
    },
    {
      "cell_type": "code",
      "execution_count": 40,
      "metadata": {
        "id": "WPZA-pDIWyBU"
      },
      "outputs": [],
      "source": [
        "# Creating a list of columns to be dropped from the DataFrame\n",
        "# These columns include player-specific details, club-related information, individual match statistics, and injury-related metrics\n",
        "drop_columns = df[['Player Name','Club Name',' Weekly Salary ', 'Matches Played', 'Minutes Played', 'Yellow Cards', 'Red Cards ',\n",
        "                  'Shots','Tackles Made', 'Tackles Won','Times Team Pressed Opposition', 'Blocks ', 'Interceptions',\n",
        "       'Clearances', 'Fouls Commited', 'Fouls Drawn', 'Loose Balls Recovered','Fully Completed Matches', 'Touches', 'Successful Dribbles',\n",
        "       'Attempted Dribbles', 'Distance Ran', 'Distance Covered With Ball','Times Dispossessed', 'Passes Received', 'Total Injuries',\n",
        "       'Minor Injuries', 'Moderate Injuries', 'Serious Injuries', 'COVID-19','Yellow Cards per 90', 'Red Cards  per 90','COVID-19 per 90','Total Injuries per 90']]"
      ]
    },
    {
      "cell_type": "code",
      "execution_count": 41,
      "metadata": {
        "id": "sZRZUblOWyHG"
      },
      "outputs": [],
      "source": [
        "# Dropping the selected columns from the DataFrame\n",
        "df = df.drop(drop_columns, axis=1)"
      ]
    },
    {
      "cell_type": "markdown",
      "metadata": {
        "id": "efvRsnskoGLS"
      },
      "source": [
        "# **Create Injury Type Column**"
      ]
    },
    {
      "cell_type": "code",
      "execution_count": 42,
      "metadata": {
        "id": "5E0bUEJORo2Q"
      },
      "outputs": [],
      "source": [
        "# Initialize a new column named 'Injury_Type' and set all values to 0\n",
        "df['Injury_Type'] = 0  # Initialize all values to 0\n",
        "\n",
        "# Assign values based on conditions for each type of injury\n",
        "\n",
        "# If 'Serious Injuries per 90' is greater than 0, assign 1 for Serious Injuries\n",
        "df.loc[df['Serious Injuries per 90'] > 0, 'Injury_Type'] = 1\n",
        "# If 'Moderate Injuries per 90' is greater than 0, assign 2 for Moderate Injuries\n",
        "df.loc[df['Moderate Injuries per 90'] > 0, 'Injury_Type'] = 2\n",
        "# If 'Minor Injuries per 90' is greater than 0, assign 3 for Minor Injuries\n",
        "df.loc[df['Minor Injuries per 90'] > 0, 'Injury_Type'] = 3\n",
        "\n",
        "# Drop the individual injury columns ('Serious Injuries per 90', 'Moderate Injuries per 90', 'Minor Injuries per 90')\n",
        "df.drop(['Serious Injuries per 90', 'Moderate Injuries per 90', 'Minor Injuries per 90'], axis=1, inplace=True)\n"
      ]
    },
    {
      "cell_type": "markdown",
      "metadata": {
        "id": "54PZF3H2xFMc"
      },
      "source": [
        "# **Encode POSITION Column**"
      ]
    },
    {
      "cell_type": "code",
      "execution_count": 43,
      "metadata": {
        "colab": {
          "base_uri": "https://localhost:8080/"
        },
        "id": "ZW5I_UIpceUK",
        "outputId": "50539dd1-c907-4f6f-d919-0095e97b8d53"
      },
      "outputs": [
        {
          "name": "stdout",
          "output_type": "stream",
          "text": [
            "Mapping of original positions to encoded values:\n",
            "DF: 0\n",
            "DFFW: 1\n",
            "DFMF: 2\n",
            "FW: 3\n",
            "FWDF: 4\n",
            "FWMF: 5\n",
            "GK: 6\n",
            "MF: 7\n",
            "MFDF: 8\n",
            "MFFW: 9\n"
          ]
        }
      ],
      "source": [
        "# Create a LabelEncoder object to convert categorical positions into numerical labels\n",
        "label_encoder = LabelEncoder()\n",
        "\n",
        "# Fit the LabelEncoder to the 'Position' column and transform it to encode positions with numerical labels\n",
        "df['Position_Encoded'] = label_encoder.fit_transform(df['Position'])\n",
        "\n",
        "# Display the mapping of original position names to their corresponding encoded numerical values\n",
        "print(\"Mapping of original positions to encoded values:\")\n",
        "for position, encoded_value in zip(label_encoder.classes_, label_encoder.transform(label_encoder.classes_)):\n",
        "    print(f\"{position}: {encoded_value}\")\n"
      ]
    },
    {
      "cell_type": "code",
      "execution_count": 44,
      "metadata": {
        "colab": {
          "base_uri": "https://localhost:8080/",
          "height": 307
        },
        "id": "6dE8ajuIjk-j",
        "outputId": "de8b2546-3992-4d6a-8250-7edcecc9e8d2"
      },
      "outputs": [
        {
          "data": {
            "application/vnd.google.colaboratory.intrinsic+json": {
              "type": "dataframe",
              "variable_name": "df"
            },
            "text/html": [
              "\n",
              "  <div id=\"df-eb8e7200-27b0-4469-b140-285860dc2142\" class=\"colab-df-container\">\n",
              "    <div>\n",
              "<style scoped>\n",
              "    .dataframe tbody tr th:only-of-type {\n",
              "        vertical-align: middle;\n",
              "    }\n",
              "\n",
              "    .dataframe tbody tr th {\n",
              "        vertical-align: top;\n",
              "    }\n",
              "\n",
              "    .dataframe thead th {\n",
              "        text-align: right;\n",
              "    }\n",
              "</style>\n",
              "<table border=\"1\" class=\"dataframe\">\n",
              "  <thead>\n",
              "    <tr style=\"text-align: right;\">\n",
              "      <th></th>\n",
              "      <th>Position</th>\n",
              "      <th>Age</th>\n",
              "      <th>Shots per 90</th>\n",
              "      <th>Aerial Battles Won %</th>\n",
              "      <th>Goal Creation per 90</th>\n",
              "      <th>Full 90s Played</th>\n",
              "      <th>Tackles Made per 90</th>\n",
              "      <th>Tackles Won per 90</th>\n",
              "      <th>Times Team Pressed Opposition per 90</th>\n",
              "      <th>Blocks  per 90</th>\n",
              "      <th>...</th>\n",
              "      <th>Loose Balls Recovered per 90</th>\n",
              "      <th>Touches per 90</th>\n",
              "      <th>Successful Dribbles per 90</th>\n",
              "      <th>Attempted Dribbles per 90</th>\n",
              "      <th>Distance Ran per 90</th>\n",
              "      <th>Distance Covered With Ball per 90</th>\n",
              "      <th>Times Dispossessed per 90</th>\n",
              "      <th>Passes Received per 90</th>\n",
              "      <th>Injury_Type</th>\n",
              "      <th>Position_Encoded</th>\n",
              "    </tr>\n",
              "  </thead>\n",
              "  <tbody>\n",
              "    <tr>\n",
              "      <th>0</th>\n",
              "      <td>DF</td>\n",
              "      <td>21</td>\n",
              "      <td>0.41</td>\n",
              "      <td>22.7</td>\n",
              "      <td>0.16</td>\n",
              "      <td>32.011111</td>\n",
              "      <td>2.155502</td>\n",
              "      <td>1.155849</td>\n",
              "      <td>13.557792</td>\n",
              "      <td>2.686567</td>\n",
              "      <td>...</td>\n",
              "      <td>5.529330</td>\n",
              "      <td>57.948629</td>\n",
              "      <td>1.030892</td>\n",
              "      <td>2.436654</td>\n",
              "      <td>199.368275</td>\n",
              "      <td>121.614023</td>\n",
              "      <td>0.937175</td>\n",
              "      <td>32.395002</td>\n",
              "      <td>0</td>\n",
              "      <td>0</td>\n",
              "    </tr>\n",
              "    <tr>\n",
              "      <th>1</th>\n",
              "      <td>DF</td>\n",
              "      <td>20</td>\n",
              "      <td>0.64</td>\n",
              "      <td>51.3</td>\n",
              "      <td>0.30</td>\n",
              "      <td>20.311111</td>\n",
              "      <td>3.741794</td>\n",
              "      <td>2.117068</td>\n",
              "      <td>19.792123</td>\n",
              "      <td>1.673961</td>\n",
              "      <td>...</td>\n",
              "      <td>6.646608</td>\n",
              "      <td>63.068928</td>\n",
              "      <td>1.969365</td>\n",
              "      <td>3.594092</td>\n",
              "      <td>182.363239</td>\n",
              "      <td>113.238512</td>\n",
              "      <td>1.575492</td>\n",
              "      <td>35.891685</td>\n",
              "      <td>2</td>\n",
              "      <td>0</td>\n",
              "    </tr>\n",
              "    <tr>\n",
              "      <th>2</th>\n",
              "      <td>DF</td>\n",
              "      <td>23</td>\n",
              "      <td>0.32</td>\n",
              "      <td>62.4</td>\n",
              "      <td>0.27</td>\n",
              "      <td>22.166667</td>\n",
              "      <td>1.804511</td>\n",
              "      <td>0.992481</td>\n",
              "      <td>9.293233</td>\n",
              "      <td>1.624060</td>\n",
              "      <td>...</td>\n",
              "      <td>8.390977</td>\n",
              "      <td>49.984962</td>\n",
              "      <td>0.496241</td>\n",
              "      <td>0.766917</td>\n",
              "      <td>152.706767</td>\n",
              "      <td>92.345865</td>\n",
              "      <td>0.496241</td>\n",
              "      <td>24.090226</td>\n",
              "      <td>1</td>\n",
              "      <td>0</td>\n",
              "    </tr>\n",
              "    <tr>\n",
              "      <th>3</th>\n",
              "      <td>DF</td>\n",
              "      <td>26</td>\n",
              "      <td>0.49</td>\n",
              "      <td>83.7</td>\n",
              "      <td>0.00</td>\n",
              "      <td>10.255556</td>\n",
              "      <td>1.462622</td>\n",
              "      <td>0.487541</td>\n",
              "      <td>6.825569</td>\n",
              "      <td>1.170098</td>\n",
              "      <td>...</td>\n",
              "      <td>7.605634</td>\n",
              "      <td>91.267606</td>\n",
              "      <td>0.000000</td>\n",
              "      <td>0.195016</td>\n",
              "      <td>347.128927</td>\n",
              "      <td>217.053088</td>\n",
              "      <td>0.097508</td>\n",
              "      <td>70.595883</td>\n",
              "      <td>0</td>\n",
              "      <td>0</td>\n",
              "    </tr>\n",
              "    <tr>\n",
              "      <th>4</th>\n",
              "      <td>DF</td>\n",
              "      <td>22</td>\n",
              "      <td>1.61</td>\n",
              "      <td>45.0</td>\n",
              "      <td>0.54</td>\n",
              "      <td>31.700000</td>\n",
              "      <td>1.388013</td>\n",
              "      <td>0.757098</td>\n",
              "      <td>9.085174</td>\n",
              "      <td>1.230284</td>\n",
              "      <td>...</td>\n",
              "      <td>10.063091</td>\n",
              "      <td>94.921136</td>\n",
              "      <td>0.820189</td>\n",
              "      <td>1.388013</td>\n",
              "      <td>190.662461</td>\n",
              "      <td>104.574132</td>\n",
              "      <td>0.820189</td>\n",
              "      <td>59.274448</td>\n",
              "      <td>2</td>\n",
              "      <td>0</td>\n",
              "    </tr>\n",
              "  </tbody>\n",
              "</table>\n",
              "<p>5 rows × 24 columns</p>\n",
              "</div>\n",
              "    <div class=\"colab-df-buttons\">\n",
              "\n",
              "  <div class=\"colab-df-container\">\n",
              "    <button class=\"colab-df-convert\" onclick=\"convertToInteractive('df-eb8e7200-27b0-4469-b140-285860dc2142')\"\n",
              "            title=\"Convert this dataframe to an interactive table.\"\n",
              "            style=\"display:none;\">\n",
              "\n",
              "  <svg xmlns=\"http://www.w3.org/2000/svg\" height=\"24px\" viewBox=\"0 -960 960 960\">\n",
              "    <path d=\"M120-120v-720h720v720H120Zm60-500h600v-160H180v160Zm220 220h160v-160H400v160Zm0 220h160v-160H400v160ZM180-400h160v-160H180v160Zm440 0h160v-160H620v160ZM180-180h160v-160H180v160Zm440 0h160v-160H620v160Z\"/>\n",
              "  </svg>\n",
              "    </button>\n",
              "\n",
              "  <style>\n",
              "    .colab-df-container {\n",
              "      display:flex;\n",
              "      gap: 12px;\n",
              "    }\n",
              "\n",
              "    .colab-df-convert {\n",
              "      background-color: #E8F0FE;\n",
              "      border: none;\n",
              "      border-radius: 50%;\n",
              "      cursor: pointer;\n",
              "      display: none;\n",
              "      fill: #1967D2;\n",
              "      height: 32px;\n",
              "      padding: 0 0 0 0;\n",
              "      width: 32px;\n",
              "    }\n",
              "\n",
              "    .colab-df-convert:hover {\n",
              "      background-color: #E2EBFA;\n",
              "      box-shadow: 0px 1px 2px rgba(60, 64, 67, 0.3), 0px 1px 3px 1px rgba(60, 64, 67, 0.15);\n",
              "      fill: #174EA6;\n",
              "    }\n",
              "\n",
              "    .colab-df-buttons div {\n",
              "      margin-bottom: 4px;\n",
              "    }\n",
              "\n",
              "    [theme=dark] .colab-df-convert {\n",
              "      background-color: #3B4455;\n",
              "      fill: #D2E3FC;\n",
              "    }\n",
              "\n",
              "    [theme=dark] .colab-df-convert:hover {\n",
              "      background-color: #434B5C;\n",
              "      box-shadow: 0px 1px 3px 1px rgba(0, 0, 0, 0.15);\n",
              "      filter: drop-shadow(0px 1px 2px rgba(0, 0, 0, 0.3));\n",
              "      fill: #FFFFFF;\n",
              "    }\n",
              "  </style>\n",
              "\n",
              "    <script>\n",
              "      const buttonEl =\n",
              "        document.querySelector('#df-eb8e7200-27b0-4469-b140-285860dc2142 button.colab-df-convert');\n",
              "      buttonEl.style.display =\n",
              "        google.colab.kernel.accessAllowed ? 'block' : 'none';\n",
              "\n",
              "      async function convertToInteractive(key) {\n",
              "        const element = document.querySelector('#df-eb8e7200-27b0-4469-b140-285860dc2142');\n",
              "        const dataTable =\n",
              "          await google.colab.kernel.invokeFunction('convertToInteractive',\n",
              "                                                    [key], {});\n",
              "        if (!dataTable) return;\n",
              "\n",
              "        const docLinkHtml = 'Like what you see? Visit the ' +\n",
              "          '<a target=\"_blank\" href=https://colab.research.google.com/notebooks/data_table.ipynb>data table notebook</a>'\n",
              "          + ' to learn more about interactive tables.';\n",
              "        element.innerHTML = '';\n",
              "        dataTable['output_type'] = 'display_data';\n",
              "        await google.colab.output.renderOutput(dataTable, element);\n",
              "        const docLink = document.createElement('div');\n",
              "        docLink.innerHTML = docLinkHtml;\n",
              "        element.appendChild(docLink);\n",
              "      }\n",
              "    </script>\n",
              "  </div>\n",
              "\n",
              "\n",
              "<div id=\"df-c0337932-5dd6-45e2-a120-2c2e89d7151a\">\n",
              "  <button class=\"colab-df-quickchart\" onclick=\"quickchart('df-c0337932-5dd6-45e2-a120-2c2e89d7151a')\"\n",
              "            title=\"Suggest charts\"\n",
              "            style=\"display:none;\">\n",
              "\n",
              "<svg xmlns=\"http://www.w3.org/2000/svg\" height=\"24px\"viewBox=\"0 0 24 24\"\n",
              "     width=\"24px\">\n",
              "    <g>\n",
              "        <path d=\"M19 3H5c-1.1 0-2 .9-2 2v14c0 1.1.9 2 2 2h14c1.1 0 2-.9 2-2V5c0-1.1-.9-2-2-2zM9 17H7v-7h2v7zm4 0h-2V7h2v10zm4 0h-2v-4h2v4z\"/>\n",
              "    </g>\n",
              "</svg>\n",
              "  </button>\n",
              "\n",
              "<style>\n",
              "  .colab-df-quickchart {\n",
              "      --bg-color: #E8F0FE;\n",
              "      --fill-color: #1967D2;\n",
              "      --hover-bg-color: #E2EBFA;\n",
              "      --hover-fill-color: #174EA6;\n",
              "      --disabled-fill-color: #AAA;\n",
              "      --disabled-bg-color: #DDD;\n",
              "  }\n",
              "\n",
              "  [theme=dark] .colab-df-quickchart {\n",
              "      --bg-color: #3B4455;\n",
              "      --fill-color: #D2E3FC;\n",
              "      --hover-bg-color: #434B5C;\n",
              "      --hover-fill-color: #FFFFFF;\n",
              "      --disabled-bg-color: #3B4455;\n",
              "      --disabled-fill-color: #666;\n",
              "  }\n",
              "\n",
              "  .colab-df-quickchart {\n",
              "    background-color: var(--bg-color);\n",
              "    border: none;\n",
              "    border-radius: 50%;\n",
              "    cursor: pointer;\n",
              "    display: none;\n",
              "    fill: var(--fill-color);\n",
              "    height: 32px;\n",
              "    padding: 0;\n",
              "    width: 32px;\n",
              "  }\n",
              "\n",
              "  .colab-df-quickchart:hover {\n",
              "    background-color: var(--hover-bg-color);\n",
              "    box-shadow: 0 1px 2px rgba(60, 64, 67, 0.3), 0 1px 3px 1px rgba(60, 64, 67, 0.15);\n",
              "    fill: var(--button-hover-fill-color);\n",
              "  }\n",
              "\n",
              "  .colab-df-quickchart-complete:disabled,\n",
              "  .colab-df-quickchart-complete:disabled:hover {\n",
              "    background-color: var(--disabled-bg-color);\n",
              "    fill: var(--disabled-fill-color);\n",
              "    box-shadow: none;\n",
              "  }\n",
              "\n",
              "  .colab-df-spinner {\n",
              "    border: 2px solid var(--fill-color);\n",
              "    border-color: transparent;\n",
              "    border-bottom-color: var(--fill-color);\n",
              "    animation:\n",
              "      spin 1s steps(1) infinite;\n",
              "  }\n",
              "\n",
              "  @keyframes spin {\n",
              "    0% {\n",
              "      border-color: transparent;\n",
              "      border-bottom-color: var(--fill-color);\n",
              "      border-left-color: var(--fill-color);\n",
              "    }\n",
              "    20% {\n",
              "      border-color: transparent;\n",
              "      border-left-color: var(--fill-color);\n",
              "      border-top-color: var(--fill-color);\n",
              "    }\n",
              "    30% {\n",
              "      border-color: transparent;\n",
              "      border-left-color: var(--fill-color);\n",
              "      border-top-color: var(--fill-color);\n",
              "      border-right-color: var(--fill-color);\n",
              "    }\n",
              "    40% {\n",
              "      border-color: transparent;\n",
              "      border-right-color: var(--fill-color);\n",
              "      border-top-color: var(--fill-color);\n",
              "    }\n",
              "    60% {\n",
              "      border-color: transparent;\n",
              "      border-right-color: var(--fill-color);\n",
              "    }\n",
              "    80% {\n",
              "      border-color: transparent;\n",
              "      border-right-color: var(--fill-color);\n",
              "      border-bottom-color: var(--fill-color);\n",
              "    }\n",
              "    90% {\n",
              "      border-color: transparent;\n",
              "      border-bottom-color: var(--fill-color);\n",
              "    }\n",
              "  }\n",
              "</style>\n",
              "\n",
              "  <script>\n",
              "    async function quickchart(key) {\n",
              "      const quickchartButtonEl =\n",
              "        document.querySelector('#' + key + ' button');\n",
              "      quickchartButtonEl.disabled = true;  // To prevent multiple clicks.\n",
              "      quickchartButtonEl.classList.add('colab-df-spinner');\n",
              "      try {\n",
              "        const charts = await google.colab.kernel.invokeFunction(\n",
              "            'suggestCharts', [key], {});\n",
              "      } catch (error) {\n",
              "        console.error('Error during call to suggestCharts:', error);\n",
              "      }\n",
              "      quickchartButtonEl.classList.remove('colab-df-spinner');\n",
              "      quickchartButtonEl.classList.add('colab-df-quickchart-complete');\n",
              "    }\n",
              "    (() => {\n",
              "      let quickchartButtonEl =\n",
              "        document.querySelector('#df-c0337932-5dd6-45e2-a120-2c2e89d7151a button');\n",
              "      quickchartButtonEl.style.display =\n",
              "        google.colab.kernel.accessAllowed ? 'block' : 'none';\n",
              "    })();\n",
              "  </script>\n",
              "</div>\n",
              "\n",
              "    </div>\n",
              "  </div>\n"
            ],
            "text/plain": [
              "  Position  Age  Shots per 90  Aerial Battles Won %  Goal Creation per 90  \\\n",
              "0       DF   21          0.41                  22.7                  0.16   \n",
              "1       DF   20          0.64                  51.3                  0.30   \n",
              "2       DF   23          0.32                  62.4                  0.27   \n",
              "3       DF   26          0.49                  83.7                  0.00   \n",
              "4       DF   22          1.61                  45.0                  0.54   \n",
              "\n",
              "   Full 90s Played  Tackles Made per 90  Tackles Won per 90  \\\n",
              "0        32.011111             2.155502            1.155849   \n",
              "1        20.311111             3.741794            2.117068   \n",
              "2        22.166667             1.804511            0.992481   \n",
              "3        10.255556             1.462622            0.487541   \n",
              "4        31.700000             1.388013            0.757098   \n",
              "\n",
              "   Times Team Pressed Opposition per 90  Blocks  per 90  ...  \\\n",
              "0                             13.557792        2.686567  ...   \n",
              "1                             19.792123        1.673961  ...   \n",
              "2                              9.293233        1.624060  ...   \n",
              "3                              6.825569        1.170098  ...   \n",
              "4                              9.085174        1.230284  ...   \n",
              "\n",
              "   Loose Balls Recovered per 90  Touches per 90  Successful Dribbles per 90  \\\n",
              "0                      5.529330       57.948629                    1.030892   \n",
              "1                      6.646608       63.068928                    1.969365   \n",
              "2                      8.390977       49.984962                    0.496241   \n",
              "3                      7.605634       91.267606                    0.000000   \n",
              "4                     10.063091       94.921136                    0.820189   \n",
              "\n",
              "   Attempted Dribbles per 90  Distance Ran per 90  \\\n",
              "0                   2.436654           199.368275   \n",
              "1                   3.594092           182.363239   \n",
              "2                   0.766917           152.706767   \n",
              "3                   0.195016           347.128927   \n",
              "4                   1.388013           190.662461   \n",
              "\n",
              "   Distance Covered With Ball per 90  Times Dispossessed per 90  \\\n",
              "0                         121.614023                   0.937175   \n",
              "1                         113.238512                   1.575492   \n",
              "2                          92.345865                   0.496241   \n",
              "3                         217.053088                   0.097508   \n",
              "4                         104.574132                   0.820189   \n",
              "\n",
              "   Passes Received per 90  Injury_Type  Position_Encoded  \n",
              "0               32.395002            0                 0  \n",
              "1               35.891685            2                 0  \n",
              "2               24.090226            1                 0  \n",
              "3               70.595883            0                 0  \n",
              "4               59.274448            2                 0  \n",
              "\n",
              "[5 rows x 24 columns]"
            ]
          },
          "execution_count": 44,
          "metadata": {},
          "output_type": "execute_result"
        }
      ],
      "source": [
        "df.head()"
      ]
    },
    {
      "cell_type": "code",
      "execution_count": 45,
      "metadata": {
        "colab": {
          "base_uri": "https://localhost:8080/"
        },
        "id": "Xcns4BksjsLa",
        "outputId": "d11fa3fa-c1cf-4bac-c9d4-1ba75b099af8"
      },
      "outputs": [
        {
          "data": {
            "text/plain": [
              "0      0\n",
              "1      0\n",
              "2      0\n",
              "3      0\n",
              "4      0\n",
              "      ..\n",
              "465    9\n",
              "466    9\n",
              "467    9\n",
              "468    9\n",
              "469    9\n",
              "Name: Position_Encoded, Length: 430, dtype: int64"
            ]
          },
          "execution_count": 45,
          "metadata": {},
          "output_type": "execute_result"
        }
      ],
      "source": [
        "df['Position_Encoded']"
      ]
    },
    {
      "cell_type": "code",
      "execution_count": 46,
      "metadata": {
        "colab": {
          "base_uri": "https://localhost:8080/"
        },
        "id": "eUJ4L1Ahj-hO",
        "outputId": "79830c22-8684-4579-e2c3-5314f9c9ccf8"
      },
      "outputs": [
        {
          "data": {
            "text/plain": [
              "Index(['Position', 'Age', 'Shots per 90', 'Aerial Battles Won %',\n",
              "       'Goal Creation per 90', 'Full 90s Played', 'Tackles Made per 90',\n",
              "       'Tackles Won per 90', 'Times Team Pressed Opposition per 90',\n",
              "       'Blocks  per 90', 'Interceptions per 90', 'Clearances per 90',\n",
              "       'Fouls Commited per 90', 'Fouls Drawn per 90',\n",
              "       'Loose Balls Recovered per 90', 'Touches per 90',\n",
              "       'Successful Dribbles per 90', 'Attempted Dribbles per 90',\n",
              "       'Distance Ran per 90', 'Distance Covered With Ball per 90',\n",
              "       'Times Dispossessed per 90', 'Passes Received per 90', 'Injury_Type',\n",
              "       'Position_Encoded'],\n",
              "      dtype='object')"
            ]
          },
          "execution_count": 46,
          "metadata": {},
          "output_type": "execute_result"
        }
      ],
      "source": [
        "df.columns"
      ]
    },
    {
      "cell_type": "code",
      "execution_count": 74,
      "metadata": {
        "colab": {
          "base_uri": "https://localhost:8080/"
        },
        "id": "4pBHP3H0JCdV",
        "outputId": "f0202cf2-27d2-4ce0-9479-7b77122a2d07"
      },
      "outputs": [
        {
          "data": {
            "text/plain": [
              "Injury_Type\n",
              "0    237\n",
              "1     83\n",
              "2     68\n",
              "3     42\n",
              "Name: count, dtype: int64"
            ]
          },
          "execution_count": 74,
          "metadata": {},
          "output_type": "execute_result"
        }
      ],
      "source": [
        "df['Injury_Type'].value_counts()"
      ]
    },
    {
      "cell_type": "markdown",
      "metadata": {
        "id": "ku2HDvi-okLl"
      },
      "source": [
        "# **Model Training Step**"
      ]
    },
    {
      "cell_type": "code",
      "execution_count": 47,
      "metadata": {
        "id": "WE_r2_DykvKL"
      },
      "outputs": [],
      "source": [
        "# Extract features (X) by dropping the 'Injury_Type' and 'Position' columns from the DataFrame\n",
        "X = df.drop(columns=['Injury_Type','Position'])  # Features\n",
        "\n",
        "# Extract the target variable (y) which is the 'Injury_Type' column\n",
        "y = df['Injury_Type']  # Target variable"
      ]
    },
    {
      "cell_type": "markdown",
      "metadata": {
        "id": "unYimnThp9m2"
      },
      "source": [
        "# **Model Traning and Evaluation**"
      ]
    },
    {
      "cell_type": "code",
      "execution_count": 75,
      "metadata": {
        "id": "OqemKdvwLuq_"
      },
      "outputs": [],
      "source": [
        "# Step 1: Balance the Dataset using Synthetic Minority Over-sampling Technique (SMOTE)\n",
        "smote = SMOTE(random_state=42)\n",
        "X_balanced, y_balanced = smote.fit_resample(X, y)"
      ]
    },
    {
      "cell_type": "code",
      "execution_count": 76,
      "metadata": {
        "id": "SDBj-jzkpiq8"
      },
      "outputs": [],
      "source": [
        "# Split the dataset into training and testing sets, with 80% of the data for training and 20% for testing\n",
        "X_train, X_test, y_train, y_test = train_test_split(X_balanced, y_balanced, test_size=0.2, random_state=42)"
      ]
    },
    {
      "cell_type": "code",
      "execution_count": 78,
      "metadata": {
        "id": "5oubZNr-G670"
      },
      "outputs": [],
      "source": [
        "# Initialize the StandardScaler\n",
        "scaler = MinMaxScaler()\n",
        "\n",
        "# Fit the scaler to the training data and transform it\n",
        "X_train = scaler.fit_transform(X_train)\n",
        "\n",
        "# Apply the same transformation to the test data\n",
        "X_test = scaler.transform(X_test)"
      ]
    },
    {
      "cell_type": "code",
      "execution_count": 79,
      "metadata": {
        "id": "mP1vX6M59Bof"
      },
      "outputs": [],
      "source": [
        "# Initialize classifiers\n",
        "rf_classifier = RandomForestClassifier(random_state=42)\n",
        "xgb_classifier = XGBClassifier(use_label_encoder=False, eval_metric='mlogloss', random_state=42)\n",
        "mlp_classifier = MLPClassifier(random_state=42)\n",
        "\n",
        "# List of classifiers\n",
        "classifiers = [\n",
        "    ('Random Forest', rf_classifier),\n",
        "    ('XGBoost', xgb_classifier),\n",
        "    ('MLP', mlp_classifier)\n",
        "]\n",
        "\n",
        "# Function to train and evaluate a model\n",
        "def train_evaluate_model(model, model_name, X_train, y_train, X_test, y_test):\n",
        "    model.fit(X_train, y_train)\n",
        "    y_pred = model.predict(X_test)\n",
        "\n",
        "    accuracy = accuracy_score(y_test, y_pred)\n",
        "    precision = precision_score(y_test, y_pred, average='macro')\n",
        "    recall = recall_score(y_test, y_pred, average='macro')\n",
        "    f1 = f1_score(y_test, y_pred, average='macro')\n",
        "\n",
        "    print(f\"{model_name} - Accuracy: {accuracy:.2f}, Precision: {precision:.2f}, Recall: {recall:.2f}, F1-Score: {f1:.2f}\\n\")"
      ]
    },
    {
      "cell_type": "code",
      "execution_count": 80,
      "metadata": {
        "colab": {
          "base_uri": "https://localhost:8080/"
        },
        "id": "8nIKDe0pHCZc",
        "outputId": "b98a7c8e-a02a-45e1-c088-2e2db62e3ce2"
      },
      "outputs": [
        {
          "name": "stdout",
          "output_type": "stream",
          "text": [
            "Random Forest - Accuracy: 0.82, Precision: 0.82, Recall: 0.82, F1-Score: 0.82\n",
            "\n",
            "XGBoost - Accuracy: 0.78, Precision: 0.78, Recall: 0.78, F1-Score: 0.78\n",
            "\n",
            "MLP - Accuracy: 0.56, Precision: 0.56, Recall: 0.56, F1-Score: 0.55\n",
            "\n"
          ]
        },
        {
          "name": "stderr",
          "output_type": "stream",
          "text": [
            "/usr/local/lib/python3.10/dist-packages/sklearn/neural_network/_multilayer_perceptron.py:686: ConvergenceWarning: Stochastic Optimizer: Maximum iterations (200) reached and the optimization hasn't converged yet.\n",
            "  warnings.warn(\n"
          ]
        }
      ],
      "source": [
        "# Train and evaluate each classifier\n",
        "for name, classifier in classifiers:\n",
        "    train_evaluate_model(classifier, name, X_train, y_train, X_test, y_test)"
      ]
    },
    {
      "cell_type": "markdown",
      "metadata": {
        "id": "Kfy3yFb9w67f"
      },
      "source": [
        "# **Hyperparameter Tuning**\n",
        "\n",
        "\n",
        "The hyperparameter tuning conducted via GridSearchCV for each model ensures that each model is optimized for its parameters, which is crucial for achieving the best possible performance. This approach systematically explores multiple combinations of parameters, selecting the set that provides the best fit to the data.\n"
      ]
    },
    {
      "cell_type": "code",
      "execution_count": 81,
      "metadata": {
        "id": "Nrd3N4B5Aya9"
      },
      "outputs": [],
      "source": [
        "from sklearn.model_selection import GridSearchCV"
      ]
    },
    {
      "cell_type": "code",
      "execution_count": 82,
      "metadata": {
        "colab": {
          "base_uri": "https://localhost:8080/"
        },
        "id": "A3QSJLnpAzlf",
        "outputId": "ce9fbb3a-9d1d-4bc7-fc6c-3877a17e3ebe"
      },
      "outputs": [
        {
          "name": "stdout",
          "output_type": "stream",
          "text": [
            "Fitting 3 folds for each of 324 candidates, totalling 972 fits\n"
          ]
        },
        {
          "name": "stderr",
          "output_type": "stream",
          "text": [
            "/usr/local/lib/python3.10/dist-packages/sklearn/ensemble/_forest.py:424: FutureWarning: `max_features='auto'` has been deprecated in 1.1 and will be removed in 1.3. To keep the past behaviour, explicitly set `max_features='sqrt'` or remove this parameter as it is also the default value for RandomForestClassifiers and ExtraTreesClassifiers.\n",
            "  warn(\n"
          ]
        },
        {
          "name": "stdout",
          "output_type": "stream",
          "text": [
            "Best parameters for Random Forest: {'max_depth': 20, 'max_features': 'auto', 'min_samples_leaf': 1, 'min_samples_split': 2, 'n_estimators': 200}\n",
            "Best score for Random Forest: 0.7427379383901123\n"
          ]
        }
      ],
      "source": [
        "# Define the model\n",
        "rf = RandomForestClassifier(random_state=42)\n",
        "\n",
        "# Set up the parameter grid\n",
        "rf_param_grid = {\n",
        "    'n_estimators': [100, 200, 300],\n",
        "    'max_features': ['auto', 'sqrt', 'log2'],\n",
        "    'max_depth': [None, 10, 20, 30],\n",
        "    'min_samples_split': [2, 5, 10],\n",
        "    'min_samples_leaf': [1, 2, 4]\n",
        "}\n",
        "\n",
        "# Configure GridSearchCV\n",
        "rf_grid_search = GridSearchCV(estimator=rf, param_grid=rf_param_grid, cv=3, scoring='accuracy', verbose=2, n_jobs=-1)\n",
        "\n",
        "# Fit the grid search to the data\n",
        "rf_grid_search.fit(X_train, y_train)\n",
        "\n",
        "# Best parameters and best score\n",
        "print(\"Best parameters for Random Forest:\", rf_grid_search.best_params_)\n",
        "print(\"Best score for Random Forest:\", rf_grid_search.best_score_)"
      ]
    },
    {
      "cell_type": "code",
      "execution_count": 83,
      "metadata": {
        "colab": {
          "base_uri": "https://localhost:8080/"
        },
        "id": "GdW8YnfAA3CY",
        "outputId": "7b854430-9084-48c3-cd17-cd11d6d46c81"
      },
      "outputs": [
        {
          "name": "stdout",
          "output_type": "stream",
          "text": [
            "Fitting 3 folds for each of 243 candidates, totalling 729 fits\n",
            "Best parameters for XGBoost: {'colsample_bytree': 1.0, 'learning_rate': 0.1, 'max_depth': 7, 'n_estimators': 300, 'subsample': 0.6}\n",
            "Best score for XGBoost: 0.7414517849300458\n"
          ]
        }
      ],
      "source": [
        "# Define the model\n",
        "xgb = XGBClassifier(use_label_encoder=False, eval_metric='mlogloss', random_state=42)\n",
        "\n",
        "# Set up the parameter grid\n",
        "xgb_param_grid = {\n",
        "    'n_estimators': [100, 200, 300],\n",
        "    'learning_rate': [0.01, 0.1, 0.5],\n",
        "    'max_depth': [3, 5, 7],\n",
        "    'subsample': [0.6, 0.8, 1.0],\n",
        "    'colsample_bytree': [0.6, 0.8, 1.0]\n",
        "}\n",
        "\n",
        "# Configure GridSearchCV\n",
        "xgb_grid_search = GridSearchCV(estimator=xgb, param_grid=xgb_param_grid, cv=3, scoring='accuracy', verbose=2, n_jobs=-1)\n",
        "\n",
        "# Fit the grid search to the data\n",
        "xgb_grid_search.fit(X_train, y_train)\n",
        "\n",
        "# Best parameters and best score\n",
        "print(\"Best parameters for XGBoost:\", xgb_grid_search.best_params_)\n",
        "print(\"Best score for XGBoost:\", xgb_grid_search.best_score_)"
      ]
    },
    {
      "cell_type": "code",
      "execution_count": 84,
      "metadata": {
        "colab": {
          "base_uri": "https://localhost:8080/"
        },
        "id": "1dcAl3TXA7Xq",
        "outputId": "9469d6a1-2b86-4d1c-d834-f4bb437423b4"
      },
      "outputs": [
        {
          "name": "stdout",
          "output_type": "stream",
          "text": [
            "Fitting 3 folds for each of 48 candidates, totalling 144 fits\n",
            "Best parameters for MLP: {'activation': 'relu', 'alpha': 0.0001, 'hidden_layer_sizes': (50, 50), 'learning_rate': 'constant', 'solver': 'adam'}\n",
            "Best score for MLP: 0.5264288851245372\n"
          ]
        },
        {
          "name": "stderr",
          "output_type": "stream",
          "text": [
            "/usr/local/lib/python3.10/dist-packages/sklearn/neural_network/_multilayer_perceptron.py:686: ConvergenceWarning: Stochastic Optimizer: Maximum iterations (200) reached and the optimization hasn't converged yet.\n",
            "  warnings.warn(\n"
          ]
        }
      ],
      "source": [
        "# Define the model\n",
        "mlp = MLPClassifier(random_state=42)\n",
        "\n",
        "# Set up the parameter grid\n",
        "mlp_param_grid = {\n",
        "    'hidden_layer_sizes': [(50,), (100,), (50,50)],\n",
        "    'activation': ['tanh', 'relu'],\n",
        "    'solver': ['sgd', 'adam'],\n",
        "    'alpha': [0.0001, 0.05],\n",
        "    'learning_rate': ['constant', 'adaptive']\n",
        "}\n",
        "\n",
        "# Configure GridSearchCV\n",
        "mlp_grid_search = GridSearchCV(estimator=mlp, param_grid=mlp_param_grid, cv=3, scoring='accuracy', verbose=2, n_jobs=-1)\n",
        "\n",
        "# Fit the grid search to the data\n",
        "mlp_grid_search.fit(X_train, y_train)\n",
        "\n",
        "# Best parameters and best score\n",
        "print(\"Best parameters for MLP:\", mlp_grid_search.best_params_)\n",
        "print(\"Best score for MLP:\", mlp_grid_search.best_score_)\n"
      ]
    },
    {
      "cell_type": "code",
      "execution_count": 85,
      "metadata": {
        "colab": {
          "base_uri": "https://localhost:8080/"
        },
        "id": "C35FgxGHRymh",
        "outputId": "aeb5960e-7d8f-46da-fa71-8382e66f62e0"
      },
      "outputs": [
        {
          "name": "stdout",
          "output_type": "stream",
          "text": [
            "Random Forest Model Evaluation\n",
            "Accuracy: 0.81, Precision: 0.81, Recall: 0.81, F1-Score: 0.81\n",
            "\n",
            "XGBoost Model Evaluation\n",
            "Accuracy: 0.78, Precision: 0.78, Recall: 0.78, F1-Score: 0.78\n",
            "\n",
            "MLP Model Evaluation\n",
            "Accuracy: 0.62, Precision: 0.61, Recall: 0.61, F1-Score: 0.61\n"
          ]
        }
      ],
      "source": [
        "def evaluate_model(model, X_test, y_test):\n",
        "    # Predict the target variable for the test set using the trained classifier\n",
        "    y_pred = model.predict(X_test)\n",
        "\n",
        "    # Calculate the accuracy, precision, recall, and f1-score of the classifier\n",
        "    accuracy = accuracy_score(y_test, y_pred)\n",
        "    precision = precision_score(y_test, y_pred, average='macro')\n",
        "    recall = recall_score(y_test, y_pred, average='macro')\n",
        "    f1 = f1_score(y_test, y_pred, average='macro')\n",
        "\n",
        "    # Print the metrics\n",
        "    print(f\"Accuracy: {accuracy:.2f}, Precision: {precision:.2f}, Recall: {recall:.2f}, F1-Score: {f1:.2f}\")\n",
        "\n",
        "# Evaluate each model\n",
        "print(\"Random Forest Model Evaluation\")\n",
        "evaluate_model(rf_grid_search.best_estimator_, X_test, y_test)\n",
        "\n",
        "print(\"\\nXGBoost Model Evaluation\")\n",
        "evaluate_model(xgb_grid_search.best_estimator_, X_test, y_test)\n",
        "\n",
        "print(\"\\nMLP Model Evaluation\")\n",
        "evaluate_model(mlp_grid_search.best_estimator_, X_test, y_test)"
      ]
    },
    {
      "cell_type": "markdown",
      "metadata": {
        "id": "NnQLbZm5qQoZ"
      },
      "source": [
        "# **Prediction for NEW INPUT**"
      ]
    },
    {
      "cell_type": "code",
      "execution_count": 93,
      "metadata": {
        "colab": {
          "base_uri": "https://localhost:8080/"
        },
        "id": "OdNCGDiRVD4X",
        "outputId": "9eac348f-69db-4ed0-bf38-9cff8a376fde"
      },
      "outputs": [
        {
          "name": "stdout",
          "output_type": "stream",
          "text": [
            "Predicted Injury Type: Moderate Injuries\n"
          ]
        },
        {
          "name": "stderr",
          "output_type": "stream",
          "text": [
            "/usr/local/lib/python3.10/dist-packages/sklearn/base.py:439: UserWarning: X does not have valid feature names, but MinMaxScaler was fitted with feature names\n",
            "  warnings.warn(\n"
          ]
        }
      ],
      "source": [
        "import numpy as np\n",
        "\n",
        "# Define all the expected features as used in model training\n",
        "expected_features = [\n",
        "    'Age',\n",
        "    'Shots per 90',\n",
        "    'Aerial Battles Won %',\n",
        "    'Goal Creation per 90',\n",
        "    'Full 90s Played',\n",
        "    'Tackles Made per 90',\n",
        "    'Tackles Won per 90',\n",
        "    'Times Team Pressed Opposition per 90',\n",
        "    'Blocks per 90',\n",
        "    'Interceptions per 90',\n",
        "    'Clearances per 90',\n",
        "    'Fouls Commited per 90',\n",
        "    'Fouls Drawn per 90',\n",
        "    'Loose Balls Recovered per 90',\n",
        "    'Touches per 90',\n",
        "    'Successful Dribbles per 90',\n",
        "    'Attempted Dribbles per 90',\n",
        "    'Distance Ran per 90',\n",
        "    'Distance Covered With Ball per 90',\n",
        "    'Times Dispossessed per 90',\n",
        "    'Passes Received per 90',\n",
        "    'Position_Encoded'\n",
        "]\n",
        "\n",
        "# User provides raw data\n",
        "user_input_data = {\n",
        "    'Age': 25,\n",
        "    'Minutes Played': 1800,  # This will be used to calculate 'Full 90s Played'\n",
        "    'Shots': 17,\n",
        "    'Aerial Battles Won %': 55,\n",
        "    'Goal Creation': 12,\n",
        "    'Tackles Made': 73,\n",
        "    'Tackles Won': 58,\n",
        "    'Times Team Pressed Opposition': 842,\n",
        "    'Blocks': 69,\n",
        "    'Interceptions': 64,\n",
        "    'Clearances': 87,\n",
        "    'Fouls Commited': 33,\n",
        "    'Fouls Drawn': 29,\n",
        "    'Loose Balls Recovered': 300,\n",
        "    'Touches': 2500,\n",
        "    'Successful Dribbles': 80,\n",
        "    'Attempted Dribbles': 120,\n",
        "    'Distance Ran': 10400,  # in meters\n",
        "    'Distance Covered With Ball': 2100,  # in meters\n",
        "    'Times Dispossessed': 40,\n",
        "    'Passes Received': 800,\n",
        "    'Position_Encoded': 2\n",
        "}\n",
        "\n",
        "# Calculate 'Full 90s Played' and derive per-90 metrics\n",
        "full_90s_played = user_input_data['Minutes Played'] / 90\n",
        "user_input_data['Full 90s Played'] = full_90s_played  # Make sure this is included\n",
        "\n",
        "# Calculate per-90 metrics\n",
        "for feature_name in expected_features:\n",
        "    if 'per 90' in feature_name and feature_name != 'Full 90s Played':\n",
        "        base_feature = feature_name.replace(' per 90', '')\n",
        "        user_input_data[feature_name] = user_input_data[base_feature] / full_90s_played\n",
        "\n",
        "# Prepare the model input list in the exact order of expected features\n",
        "model_input_list = [user_input_data[feature] for feature in expected_features]\n",
        "\n",
        "# Convert to numpy array and reshape for a single sample\n",
        "model_input_array = np.array([model_input_list])\n",
        "\n",
        "# Scale the input data using the same scaler used during training\n",
        "model_input_scaled = scaler.transform(model_input_array)\n",
        "\n",
        "best_model = rf_grid_search.best_estimator_\n",
        "\n",
        "# Map prediction to label\n",
        "prediction = best_model.predict(model_input_scaled)\n",
        "\n",
        "injury_labels = {\n",
        "    0: 'No injury',\n",
        "    1: 'Serious Injuries',\n",
        "    2: 'Moderate Injuries',\n",
        "    3: 'Minor Injuries'\n",
        "}\n",
        "\n",
        "prediction_label = injury_labels.get(prediction[0], \"Unknown label\")\n",
        "\n",
        "# Output the result\n",
        "print(f\"Predicted Injury Type: {prediction_label}\")\n"
      ]
    },
    {
      "cell_type": "markdown",
      "metadata": {
        "id": "BotFvjYFna-A"
      },
      "source": [
        "# **Save Best Model**"
      ]
    },
    {
      "cell_type": "code",
      "execution_count": 94,
      "metadata": {
        "id": "kFotpGd4a9aB"
      },
      "outputs": [],
      "source": [
        "import pickle\n",
        "\n",
        "# Saving the model\n",
        "with open('model.pkl', 'wb') as file:\n",
        "    pickle.dump(best_model, file)\n",
        "\n",
        "# Saving the scaler\n",
        "with open('scaler.pkl', 'wb') as file:\n",
        "    pickle.dump(scaler, file)"
      ]
    }
  ],
  "metadata": {
    "accelerator": "GPU",
    "colab": {
      "gpuType": "T4",
      "provenance": []
    },
    "kernelspec": {
      "display_name": "Python 3",
      "name": "python3"
    },
    "language_info": {
      "name": "python"
    }
  },
  "nbformat": 4,
  "nbformat_minor": 0
}
